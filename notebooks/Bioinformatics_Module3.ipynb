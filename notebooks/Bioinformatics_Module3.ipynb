{
  "nbformat": 4,
  "nbformat_minor": 0,
  "metadata": {
    "colab": {
      "provenance": [],
      "authorship_tag": "ABX9TyOPYAKMVs1jJf1oBmKKxQZU",
      "include_colab_link": true
    },
    "kernelspec": {
      "name": "python3",
      "display_name": "Python 3"
    },
    "language_info": {
      "name": "python"
    }
  },
  "cells": [
    {
      "cell_type": "markdown",
      "metadata": {
        "id": "view-in-github",
        "colab_type": "text"
      },
      "source": [
        "<a href=\"https://colab.research.google.com/github/hlopez1024/beginning-bioinformatics/blob/main/notebooks/Bioinformatics_Module3.ipynb\" target=\"_parent\"><img src=\"https://colab.research.google.com/assets/colab-badge.svg\" alt=\"Open In Colab\"/></a>"
      ]
    },
    {
      "cell_type": "code",
      "execution_count": 1,
      "metadata": {
        "colab": {
          "base_uri": "https://localhost:8080/"
        },
        "id": "Kw5PR-DIYh1f",
        "outputId": "c2c74755-80b8-4dbf-a6b6-d1e07d1ff59f"
      },
      "outputs": [
        {
          "output_type": "stream",
          "name": "stdout",
          "text": [
            "hello world\n"
          ]
        }
      ],
      "source": [
        "print (\"hello world\")"
      ]
    },
    {
      "cell_type": "code",
      "source": [
        "variable_name = value"
      ],
      "metadata": {
        "colab": {
          "base_uri": "https://localhost:8080/",
          "height": 176
        },
        "id": "tl7TjgcbY1T-",
        "outputId": "f67e2c8d-6ecc-4a73-82a2-0627de73fceb"
      },
      "execution_count": 2,
      "outputs": [
        {
          "output_type": "error",
          "ename": "NameError",
          "evalue": "name 'value' is not defined",
          "traceback": [
            "\u001b[0;31m---------------------------------------------------------------------------\u001b[0m",
            "\u001b[0;31mNameError\u001b[0m                                 Traceback (most recent call last)",
            "\u001b[0;32m/tmp/ipython-input-220538947.py\u001b[0m in \u001b[0;36m<cell line: 0>\u001b[0;34m()\u001b[0m\n\u001b[0;32m----> 1\u001b[0;31m \u001b[0mvariable_name\u001b[0m \u001b[0;34m=\u001b[0m \u001b[0mvalue\u001b[0m\u001b[0;34m\u001b[0m\u001b[0;34m\u001b[0m\u001b[0m\n\u001b[0m",
            "\u001b[0;31mNameError\u001b[0m: name 'value' is not defined"
          ]
        }
      ]
    },
    {
      "cell_type": "code",
      "source": [
        "x = 5"
      ],
      "metadata": {
        "id": "1ze7eIVUZOtH"
      },
      "execution_count": 3,
      "outputs": []
    },
    {
      "cell_type": "code",
      "source": [
        "greeting = \"hello\""
      ],
      "metadata": {
        "id": "rkqAhK5rZS8B"
      },
      "execution_count": 4,
      "outputs": []
    },
    {
      "cell_type": "code",
      "source": [
        "pi = 3.14"
      ],
      "metadata": {
        "id": "DTtwSDozZVHM"
      },
      "execution_count": 5,
      "outputs": []
    },
    {
      "cell_type": "code",
      "source": [
        "# Integer\n",
        "my_integer = 10\n",
        "print(my_integer)\n",
        "\n",
        "# String\n",
        "my_string = \"Hello, Colab!\"\n",
        "print(my_string)\n",
        "\n",
        "# Float\n",
        "my_float = 3.14\n",
        "print(my_float)"
      ],
      "metadata": {
        "colab": {
          "base_uri": "https://localhost:8080/"
        },
        "id": "4af0DgK5ZWud",
        "outputId": "a730f28f-84ab-4c90-85b0-dafd12a6c5d8"
      },
      "execution_count": 6,
      "outputs": [
        {
          "output_type": "stream",
          "name": "stdout",
          "text": [
            "10\n",
            "Hello, Colab!\n",
            "3.14\n"
          ]
        }
      ]
    },
    {
      "cell_type": "code",
      "source": [
        "a = 10 + 5"
      ],
      "metadata": {
        "id": "nqiksIiQZvXG"
      },
      "execution_count": 7,
      "outputs": []
    },
    {
      "cell_type": "code",
      "source": [
        "b = 20 - 7"
      ],
      "metadata": {
        "id": "DfdkhUkTaIg-"
      },
      "execution_count": 8,
      "outputs": []
    },
    {
      "cell_type": "code",
      "source": [
        "c = 4 * 3"
      ],
      "metadata": {
        "id": "RcsdrJfhaMQo"
      },
      "execution_count": 9,
      "outputs": []
    },
    {
      "cell_type": "code",
      "source": [
        "d = 16 / 4"
      ],
      "metadata": {
        "id": "i0FOsQcPaOon"
      },
      "execution_count": 10,
      "outputs": []
    },
    {
      "cell_type": "code",
      "source": [
        "e = 17 % 5"
      ],
      "metadata": {
        "id": "G97GB3FbaQ-Q"
      },
      "execution_count": 11,
      "outputs": []
    },
    {
      "cell_type": "code",
      "source": [
        "f = 2 ** 4"
      ],
      "metadata": {
        "id": "YhLoNTgcaTIS"
      },
      "execution_count": 12,
      "outputs": []
    },
    {
      "cell_type": "code",
      "source": [
        "print(3 == 3)"
      ],
      "metadata": {
        "colab": {
          "base_uri": "https://localhost:8080/"
        },
        "id": "9tSMK19laWTL",
        "outputId": "34dcd322-761b-49b3-e861-8f7d98adac2d"
      },
      "execution_count": 13,
      "outputs": [
        {
          "output_type": "stream",
          "name": "stdout",
          "text": [
            "True\n"
          ]
        }
      ]
    },
    {
      "cell_type": "code",
      "source": [
        "print(5 != 2)"
      ],
      "metadata": {
        "colab": {
          "base_uri": "https://localhost:8080/"
        },
        "id": "BNJBIxIqaZBY",
        "outputId": "87e353f1-234f-4746-9d34-db8890e03f8a"
      },
      "execution_count": 14,
      "outputs": [
        {
          "output_type": "stream",
          "name": "stdout",
          "text": [
            "True\n"
          ]
        }
      ]
    },
    {
      "cell_type": "code",
      "source": [
        "print(4 < 10)"
      ],
      "metadata": {
        "colab": {
          "base_uri": "https://localhost:8080/"
        },
        "id": "BcdZx-YDabNG",
        "outputId": "28a3a05a-1cdf-49e4-8ff2-cc1e83afd710"
      },
      "execution_count": 15,
      "outputs": [
        {
          "output_type": "stream",
          "name": "stdout",
          "text": [
            "True\n"
          ]
        }
      ]
    },
    {
      "cell_type": "code",
      "source": [
        "print(8 > 12)"
      ],
      "metadata": {
        "colab": {
          "base_uri": "https://localhost:8080/"
        },
        "id": "n5RoybSpa4l2",
        "outputId": "7f7f5559-6237-40bf-bcc4-d6f7640a6538"
      },
      "execution_count": 16,
      "outputs": [
        {
          "output_type": "stream",
          "name": "stdout",
          "text": [
            "False\n"
          ]
        }
      ]
    },
    {
      "cell_type": "code",
      "source": [
        "print(7 >= 7)"
      ],
      "metadata": {
        "colab": {
          "base_uri": "https://localhost:8080/"
        },
        "id": "n7H-7PR2a6aL",
        "outputId": "8eddc44d-87bb-4dd3-dc00-dcd49fd126ce"
      },
      "execution_count": 17,
      "outputs": [
        {
          "output_type": "stream",
          "name": "stdout",
          "text": [
            "True\n"
          ]
        }
      ]
    },
    {
      "cell_type": "code",
      "source": [
        "print(6 <= 3)"
      ],
      "metadata": {
        "colab": {
          "base_uri": "https://localhost:8080/"
        },
        "id": "72QkcKgFa9Zn",
        "outputId": "f3e7ae24-4083-42da-f65e-2b5aaf085412"
      },
      "execution_count": 18,
      "outputs": [
        {
          "output_type": "stream",
          "name": "stdout",
          "text": [
            "False\n"
          ]
        }
      ]
    },
    {
      "cell_type": "code",
      "source": [
        "# Given two numbers a and b, calculate the square of the hypotenuse"
      ],
      "metadata": {
        "id": "LGrZseWra-6-"
      },
      "execution_count": 19,
      "outputs": []
    },
    {
      "cell_type": "code",
      "source": [
        "name = input(\"What is your name? \")\n",
        "print(\"Hello \" + name + \"!\")"
      ],
      "metadata": {
        "colab": {
          "base_uri": "https://localhost:8080/"
        },
        "id": "vsqDVp32c2XO",
        "outputId": "87df6bf9-f824-4859-a06b-34aa90e77f1f"
      },
      "execution_count": 20,
      "outputs": [
        {
          "output_type": "stream",
          "name": "stdout",
          "text": [
            "What is your name? Honesty\n",
            "Hello Honesty!\n"
          ]
        }
      ]
    },
    {
      "cell_type": "code",
      "source": [
        "my_list = [\"Hello\", \"World\", \"Charles Darwin\"]\n",
        "print(my_list[1])"
      ],
      "metadata": {
        "colab": {
          "base_uri": "https://localhost:8080/"
        },
        "id": "Z0-_wN7pc5ZO",
        "outputId": "51418888-f8e0-425a-fe35-b414c0faace3"
      },
      "execution_count": 21,
      "outputs": [
        {
          "output_type": "stream",
          "name": "stdout",
          "text": [
            "World\n"
          ]
        }
      ]
    },
    {
      "cell_type": "code",
      "source": [
        "my_list = [\"Hello\", \"World\", \"Charles Darwin\"]\n",
        "print(my_list[2])"
      ],
      "metadata": {
        "colab": {
          "base_uri": "https://localhost:8080/"
        },
        "id": "nnl7C5bvdOgK",
        "outputId": "ebf65f02-9ba1-4f42-ea7f-41411a4b142b"
      },
      "execution_count": 22,
      "outputs": [
        {
          "output_type": "stream",
          "name": "stdout",
          "text": [
            "Charles Darwin\n"
          ]
        }
      ]
    },
    {
      "cell_type": "code",
      "source": [
        "# Substitue the item at index 2 in the list\n",
        "my_list[2] = \"Alfred R. Wallace\"\n",
        "print(my_list)"
      ],
      "metadata": {
        "colab": {
          "base_uri": "https://localhost:8080/"
        },
        "id": "NnEKU4CGdW06",
        "outputId": "1cfd6540-c1ac-48d8-b89b-4290af0612d5"
      },
      "execution_count": 23,
      "outputs": [
        {
          "output_type": "stream",
          "name": "stdout",
          "text": [
            "['Hello', 'World', 'Alfred R. Wallace']\n"
          ]
        }
      ]
    },
    {
      "cell_type": "code",
      "source": [
        "# Append an item to the end of the list\n",
        "my_list.append(\"Charles Darwin\")\n",
        "print(my_list)"
      ],
      "metadata": {
        "colab": {
          "base_uri": "https://localhost:8080/"
        },
        "id": "KRKEa9SadnGT",
        "outputId": "052dcc02-ccf0-4340-8c07-514e4559dec0"
      },
      "execution_count": 24,
      "outputs": [
        {
          "output_type": "stream",
          "name": "stdout",
          "text": [
            "['Hello', 'World', 'Alfred R. Wallace', 'Charles Darwin']\n"
          ]
        }
      ]
    },
    {
      "cell_type": "code",
      "source": [
        "print (my_list[2:4])"
      ],
      "metadata": {
        "colab": {
          "base_uri": "https://localhost:8080/"
        },
        "id": "QbeLZryxdvD7",
        "outputId": "4dffee5c-3fb2-47a4-ca5a-8d27db2d83be"
      },
      "execution_count": 25,
      "outputs": [
        {
          "output_type": "stream",
          "name": "stdout",
          "text": [
            "['Alfred R. Wallace', 'Charles Darwin']\n"
          ]
        }
      ]
    },
    {
      "cell_type": "code",
      "source": [
        "my_string = \"HelloWorldCharlesDarwinAlfred R. Wallace\"\n",
        "print (my_string[0:5],my_string[5:10])"
      ],
      "metadata": {
        "colab": {
          "base_uri": "https://localhost:8080/"
        },
        "id": "WvT-CuzUd4_T",
        "outputId": "6c5e2dc6-e727-4ab6-e72a-672516818472"
      },
      "execution_count": 26,
      "outputs": [
        {
          "output_type": "stream",
          "name": "stdout",
          "text": [
            "Hello World\n"
          ]
        }
      ]
    },
    {
      "cell_type": "code",
      "source": [
        "print (my_string[33:],my_string[5:10])"
      ],
      "metadata": {
        "colab": {
          "base_uri": "https://localhost:8080/"
        },
        "id": "M9J8gEMEeJoS",
        "outputId": "9ccf704c-5331-4ce3-da08-6fd874b5bf09"
      },
      "execution_count": 27,
      "outputs": [
        {
          "output_type": "stream",
          "name": "stdout",
          "text": [
            "Wallace World\n"
          ]
        }
      ]
    },
    {
      "cell_type": "code",
      "source": [
        "a = 967\n",
        "b = 843\n",
        "c_squared = a**2 + b**2\n",
        "print(c_squared)"
      ],
      "metadata": {
        "colab": {
          "base_uri": "https://localhost:8080/"
        },
        "id": "sePQr-IGgcYR",
        "outputId": "2b48863b-6411-4a5a-a539-ad8687330104"
      },
      "execution_count": 28,
      "outputs": [
        {
          "output_type": "stream",
          "name": "stdout",
          "text": [
            "1645738\n"
          ]
        }
      ]
    },
    {
      "cell_type": "code",
      "source": [],
      "metadata": {
        "id": "Jt13RvZVhnb_"
      },
      "execution_count": null,
      "outputs": []
    },
    {
      "cell_type": "code",
      "source": [
        "# Given two numbers a = 967 and b = 843 calculate the square of the hypotenuse\n",
        "a = 967\n",
        "b = 843\n",
        "c_squared = a**2 + b**2\n",
        "print(c_squared)"
      ],
      "metadata": {
        "colab": {
          "base_uri": "https://localhost:8080/"
        },
        "id": "hZHXMPT7haMA",
        "outputId": "8cd2749b-d683-4afe-aff8-2abb9eb5ae02"
      },
      "execution_count": 30,
      "outputs": [
        {
          "output_type": "stream",
          "name": "stdout",
          "text": [
            "1645738\n"
          ]
        }
      ]
    },
    {
      "cell_type": "code",
      "source": [
        "jI55OBombus8PfeHH7uxtzicOUH3sPUJteSjXWRtHW0FlvionjzhLEMKbxgKThgc6j1v6gyhgUEwP99Yqf6mCrn0sYGdkIhUALMbERt13QMTSbs8oyp6RVPdOsmgvWyA2i8F0OcXAZbbGugl7ftm69w4MqYaOa1bkJyLkndFowJhpYLdE5jKPp3EaMs6.\n"
      ],
      "metadata": {
        "colab": {
          "base_uri": "https://localhost:8080/",
          "height": 161
        },
        "id": "qW8B-7cZiXDO",
        "outputId": "60c62309-751c-4474-9834-fb3d14b6c662"
      },
      "execution_count": 31,
      "outputs": [
        {
          "output_type": "error",
          "ename": "SyntaxError",
          "evalue": "invalid syntax (ipython-input-3482191860.py, line 1)",
          "traceback": [
            "\u001b[0;36m  File \u001b[0;32m\"/tmp/ipython-input-3482191860.py\"\u001b[0;36m, line \u001b[0;32m1\u001b[0m\n\u001b[0;31m    jI55OBombus8PfeHH7uxtzicOUH3sPUJteSjXWRtHW0FlvionjzhLEMKbxgKThgc6j1v6gyhgUEwP99Yqf6mCrn0sYGdkIhUALMbERt13QMTSbs8oyp6RVPdOsmgvWyA2i8F0OcXAZbbGugl7ftm69w4MqYaOa1bkJyLkndFowJhpYLdE5jKPp3EaMs6.\u001b[0m\n\u001b[0m                                                                                                                                                                                                 ^\u001b[0m\n\u001b[0;31mSyntaxError\u001b[0m\u001b[0;31m:\u001b[0m invalid syntax\n"
          ]
        }
      ]
    },
    {
      "cell_type": "code",
      "source": [
        "# Define the input string\n",
        "s = \"jI55OBombus8PfeHH7uxtzicOUH3sPUJteSjXWRtHW0FlvionjzhLEMKbxgKThgc6j1v6gyhgUEwP99Yqf6mCrn0sYGdkIhUALMbERt13QMTSbs8oyp6RVPdOsmgvWyA2i8F0OcXAZbbGugl7ftm69w4MqYaOa1bkJyLkndFowJhpYLdE5jKPp3EaMs6.\"\n",
        "\n",
        "# Define the slice indices\n",
        "a = 5\n",
        "b = 10\n",
        "c = 46\n",
        "d = 48\n",
        "\n",
        "# Slice the string (remember to add 1 to the end index to include it)\n",
        "part1 = s[a:b+1]\n",
        "part2 = s[c:d+1]\n",
        "\n",
        "# Print the result with a space in between\n",
        "print(part1 + \" \" + part2)\n"
      ],
      "metadata": {
        "colab": {
          "base_uri": "https://localhost:8080/"
        },
        "id": "Qc8SyisQiYa1",
        "outputId": "fcf6373c-e919-443b-c9d4-2a5a1b5c33a9"
      },
      "execution_count": 32,
      "outputs": [
        {
          "output_type": "stream",
          "name": "stdout",
          "text": [
            "Bombus ion\n"
          ]
        }
      ]
    },
    {
      "cell_type": "code",
      "source": [
        "s[a to b] + \" \" + s[c to d]\n"
      ],
      "metadata": {
        "colab": {
          "base_uri": "https://localhost:8080/",
          "height": 106
        },
        "id": "fXCFeZ_qid1H",
        "outputId": "e14a7b9f-f8fe-4421-ad03-4d6c1f2beab0"
      },
      "execution_count": 33,
      "outputs": [
        {
          "output_type": "error",
          "ename": "SyntaxError",
          "evalue": "invalid syntax. Perhaps you forgot a comma? (ipython-input-3109120640.py, line 1)",
          "traceback": [
            "\u001b[0;36m  File \u001b[0;32m\"/tmp/ipython-input-3109120640.py\"\u001b[0;36m, line \u001b[0;32m1\u001b[0m\n\u001b[0;31m    s[a to b] + \" \" + s[c to d]\u001b[0m\n\u001b[0m      ^\u001b[0m\n\u001b[0;31mSyntaxError\u001b[0m\u001b[0;31m:\u001b[0m invalid syntax. Perhaps you forgot a comma?\n"
          ]
        }
      ]
    },
    {
      "cell_type": "code",
      "source": [
        "s = \"jI55OBombus8PfeHH7uxtzicOUH3sPUJteSjXWRtHW0FlvionjzhLEMKbxgKThgc6j1v6gyhgUEwP99Yqf6mCrn0sYGdkIhUALMbERt13QMTSbs8oyp6RVPdOsmgvWyA2i8F0OcXAZbbGugl7ftm69w4MqYaOa1bkJyLkndFowJhpYLdE5jKPp3EaMs6.\"\n",
        "\n",
        "a = 5\n",
        "b = 10\n",
        "c = 46\n",
        "d = 48\n",
        "\n",
        "# Include the end index by using +1\n",
        "part1 = s[a:b+1]\n",
        "part2 = s[c:d+1]\n",
        "\n",
        "print(part1 + \" \" + part2)\n",
        "\n"
      ],
      "metadata": {
        "colab": {
          "base_uri": "https://localhost:8080/"
        },
        "id": "q9KVqmYlilGK",
        "outputId": "27b70f97-4151-47a2-9a25-b108782e9508"
      },
      "execution_count": 34,
      "outputs": [
        {
          "output_type": "stream",
          "name": "stdout",
          "text": [
            "Bombus ion\n"
          ]
        }
      ]
    },
    {
      "cell_type": "code",
      "source": [],
      "metadata": {
        "id": "37SIsT99io4C"
      },
      "execution_count": null,
      "outputs": []
    }
  ]
}