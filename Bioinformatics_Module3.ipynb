{
  "nbformat": 4,
  "nbformat_minor": 0,
  "metadata": {
    "colab": {
      "provenance": [],
      "authorship_tag": "ABX9TyMIsKa+3Ae9xSNyekh/t+Uq",
      "include_colab_link": true
    },
    "kernelspec": {
      "name": "python3",
      "display_name": "Python 3"
    },
    "language_info": {
      "name": "python"
    }
  },
  "cells": [
    {
      "cell_type": "markdown",
      "metadata": {
        "id": "view-in-github",
        "colab_type": "text"
      },
      "source": [
        "<a href=\"https://colab.research.google.com/github/hlopez1024/beginning-bioinformatics/blob/main/Bioinformatics_Module3.ipynb\" target=\"_parent\"><img src=\"https://colab.research.google.com/assets/colab-badge.svg\" alt=\"Open In Colab\"/></a>"
      ]
    },
    {
      "cell_type": "code",
      "execution_count": 1,
      "metadata": {
        "colab": {
          "base_uri": "https://localhost:8080/"
        },
        "id": "Kw5PR-DIYh1f",
        "outputId": "c2c74755-80b8-4dbf-a6b6-d1e07d1ff59f"
      },
      "outputs": [
        {
          "output_type": "stream",
          "name": "stdout",
          "text": [
            "hello world\n"
          ]
        }
      ],
      "source": [
        "print (\"hello world\")"
      ]
    },
    {
      "cell_type": "code",
      "source": [
        "variable_name = value"
      ],
      "metadata": {
        "colab": {
          "base_uri": "https://localhost:8080/",
          "height": 141
        },
        "id": "tl7TjgcbY1T-",
        "outputId": "f67e2c8d-6ecc-4a73-82a2-0627de73fceb"
      },
      "execution_count": 2,
      "outputs": [
        {
          "output_type": "error",
          "ename": "NameError",
          "evalue": "name 'value' is not defined",
          "traceback": [
            "\u001b[0;31m---------------------------------------------------------------------------\u001b[0m",
            "\u001b[0;31mNameError\u001b[0m                                 Traceback (most recent call last)",
            "\u001b[0;32m/tmp/ipython-input-220538947.py\u001b[0m in \u001b[0;36m<cell line: 0>\u001b[0;34m()\u001b[0m\n\u001b[0;32m----> 1\u001b[0;31m \u001b[0mvariable_name\u001b[0m \u001b[0;34m=\u001b[0m \u001b[0mvalue\u001b[0m\u001b[0;34m\u001b[0m\u001b[0;34m\u001b[0m\u001b[0m\n\u001b[0m",
            "\u001b[0;31mNameError\u001b[0m: name 'value' is not defined"
          ]
        }
      ]
    },
    {
      "cell_type": "code",
      "source": [
        "x = 5"
      ],
      "metadata": {
        "id": "1ze7eIVUZOtH"
      },
      "execution_count": 3,
      "outputs": []
    },
    {
      "cell_type": "code",
      "source": [
        "greeting = \"hello\""
      ],
      "metadata": {
        "id": "rkqAhK5rZS8B"
      },
      "execution_count": 4,
      "outputs": []
    },
    {
      "cell_type": "code",
      "source": [
        "pi = 3.14"
      ],
      "metadata": {
        "id": "DTtwSDozZVHM"
      },
      "execution_count": 5,
      "outputs": []
    },
    {
      "cell_type": "code",
      "source": [
        "# Integer\n",
        "my_integer = 10\n",
        "print(my_integer)\n",
        "\n",
        "# String\n",
        "my_string = \"Hello, Colab!\"\n",
        "print(my_string)\n",
        "\n",
        "# Float\n",
        "my_float = 3.14\n",
        "print(my_float)"
      ],
      "metadata": {
        "colab": {
          "base_uri": "https://localhost:8080/"
        },
        "id": "4af0DgK5ZWud",
        "outputId": "a730f28f-84ab-4c90-85b0-dafd12a6c5d8"
      },
      "execution_count": 6,
      "outputs": [
        {
          "output_type": "stream",
          "name": "stdout",
          "text": [
            "10\n",
            "Hello, Colab!\n",
            "3.14\n"
          ]
        }
      ]
    },
    {
      "cell_type": "code",
      "source": [
        "a = 10 + 5"
      ],
      "metadata": {
        "id": "nqiksIiQZvXG"
      },
      "execution_count": 7,
      "outputs": []
    },
    {
      "cell_type": "code",
      "source": [
        "b = 20 - 7"
      ],
      "metadata": {
        "id": "DfdkhUkTaIg-"
      },
      "execution_count": 8,
      "outputs": []
    },
    {
      "cell_type": "code",
      "source": [
        "c = 4 * 3"
      ],
      "metadata": {
        "id": "RcsdrJfhaMQo"
      },
      "execution_count": 9,
      "outputs": []
    },
    {
      "cell_type": "code",
      "source": [
        "d = 16 / 4"
      ],
      "metadata": {
        "id": "i0FOsQcPaOon"
      },
      "execution_count": 10,
      "outputs": []
    },
    {
      "cell_type": "code",
      "source": [
        "e = 17 % 5"
      ],
      "metadata": {
        "id": "G97GB3FbaQ-Q"
      },
      "execution_count": 11,
      "outputs": []
    },
    {
      "cell_type": "code",
      "source": [
        "f = 2 ** 4"
      ],
      "metadata": {
        "id": "YhLoNTgcaTIS"
      },
      "execution_count": 12,
      "outputs": []
    },
    {
      "cell_type": "code",
      "source": [
        "print(3 == 3)"
      ],
      "metadata": {
        "colab": {
          "base_uri": "https://localhost:8080/"
        },
        "id": "9tSMK19laWTL",
        "outputId": "34dcd322-761b-49b3-e861-8f7d98adac2d"
      },
      "execution_count": 13,
      "outputs": [
        {
          "output_type": "stream",
          "name": "stdout",
          "text": [
            "True\n"
          ]
        }
      ]
    },
    {
      "cell_type": "code",
      "source": [
        "print(5 != 2)"
      ],
      "metadata": {
        "colab": {
          "base_uri": "https://localhost:8080/"
        },
        "id": "BNJBIxIqaZBY",
        "outputId": "87e353f1-234f-4746-9d34-db8890e03f8a"
      },
      "execution_count": 14,
      "outputs": [
        {
          "output_type": "stream",
          "name": "stdout",
          "text": [
            "True\n"
          ]
        }
      ]
    },
    {
      "cell_type": "code",
      "source": [
        "print(4 < 10)"
      ],
      "metadata": {
        "colab": {
          "base_uri": "https://localhost:8080/"
        },
        "id": "BcdZx-YDabNG",
        "outputId": "28a3a05a-1cdf-49e4-8ff2-cc1e83afd710"
      },
      "execution_count": 15,
      "outputs": [
        {
          "output_type": "stream",
          "name": "stdout",
          "text": [
            "True\n"
          ]
        }
      ]
    },
    {
      "cell_type": "code",
      "source": [
        "print(8 > 12)"
      ],
      "metadata": {
        "colab": {
          "base_uri": "https://localhost:8080/"
        },
        "id": "n5RoybSpa4l2",
        "outputId": "7f7f5559-6237-40bf-bcc4-d6f7640a6538"
      },
      "execution_count": 16,
      "outputs": [
        {
          "output_type": "stream",
          "name": "stdout",
          "text": [
            "False\n"
          ]
        }
      ]
    },
    {
      "cell_type": "code",
      "source": [
        "print(7 >= 7)"
      ],
      "metadata": {
        "colab": {
          "base_uri": "https://localhost:8080/"
        },
        "id": "n7H-7PR2a6aL",
        "outputId": "8eddc44d-87bb-4dd3-dc00-dcd49fd126ce"
      },
      "execution_count": 17,
      "outputs": [
        {
          "output_type": "stream",
          "name": "stdout",
          "text": [
            "True\n"
          ]
        }
      ]
    },
    {
      "cell_type": "code",
      "source": [
        "print(6 <= 3)"
      ],
      "metadata": {
        "colab": {
          "base_uri": "https://localhost:8080/"
        },
        "id": "72QkcKgFa9Zn",
        "outputId": "f3e7ae24-4083-42da-f65e-2b5aaf085412"
      },
      "execution_count": 18,
      "outputs": [
        {
          "output_type": "stream",
          "name": "stdout",
          "text": [
            "False\n"
          ]
        }
      ]
    },
    {
      "cell_type": "code",
      "source": [
        "# Given two numbers a and b, calculate the square of the hypotenuse"
      ],
      "metadata": {
        "id": "LGrZseWra-6-"
      },
      "execution_count": 19,
      "outputs": []
    },
    {
      "cell_type": "code",
      "source": [
        "name = input(\"What is your name? \")\n",
        "print(\"Hello \" + name + \"!\")"
      ],
      "metadata": {
        "colab": {
          "base_uri": "https://localhost:8080/"
        },
        "id": "vsqDVp32c2XO",
        "outputId": "87df6bf9-f824-4859-a06b-34aa90e77f1f"
      },
      "execution_count": 20,
      "outputs": [
        {
          "output_type": "stream",
          "name": "stdout",
          "text": [
            "What is your name? Honesty\n",
            "Hello Honesty!\n"
          ]
        }
      ]
    },
    {
      "cell_type": "code",
      "source": [
        "my_list = [\"Hello\", \"World\", \"Charles Darwin\"]\n",
        "print(my_list[1])"
      ],
      "metadata": {
        "colab": {
          "base_uri": "https://localhost:8080/"
        },
        "id": "Z0-_wN7pc5ZO",
        "outputId": "51418888-f8e0-425a-fe35-b414c0faace3"
      },
      "execution_count": 21,
      "outputs": [
        {
          "output_type": "stream",
          "name": "stdout",
          "text": [
            "World\n"
          ]
        }
      ]
    },
    {
      "cell_type": "code",
      "source": [
        "my_list = [\"Hello\", \"World\", \"Charles Darwin\"]\n",
        "print(my_list[2])"
      ],
      "metadata": {
        "colab": {
          "base_uri": "https://localhost:8080/"
        },
        "id": "nnl7C5bvdOgK",
        "outputId": "ebf65f02-9ba1-4f42-ea7f-41411a4b142b"
      },
      "execution_count": 22,
      "outputs": [
        {
          "output_type": "stream",
          "name": "stdout",
          "text": [
            "Charles Darwin\n"
          ]
        }
      ]
    },
    {
      "cell_type": "code",
      "source": [
        "# Substitue the item at index 2 in the list\n",
        "my_list[2] = \"Alfred R. Wallace\"\n",
        "print(my_list)"
      ],
      "metadata": {
        "colab": {
          "base_uri": "https://localhost:8080/"
        },
        "id": "NnEKU4CGdW06",
        "outputId": "1cfd6540-c1ac-48d8-b89b-4290af0612d5"
      },
      "execution_count": 23,
      "outputs": [
        {
          "output_type": "stream",
          "name": "stdout",
          "text": [
            "['Hello', 'World', 'Alfred R. Wallace']\n"
          ]
        }
      ]
    },
    {
      "cell_type": "code",
      "source": [
        "# Append an item to the end of the list\n",
        "my_list.append(\"Charles Darwin\")\n",
        "print(my_list)"
      ],
      "metadata": {
        "colab": {
          "base_uri": "https://localhost:8080/"
        },
        "id": "KRKEa9SadnGT",
        "outputId": "052dcc02-ccf0-4340-8c07-514e4559dec0"
      },
      "execution_count": 24,
      "outputs": [
        {
          "output_type": "stream",
          "name": "stdout",
          "text": [
            "['Hello', 'World', 'Alfred R. Wallace', 'Charles Darwin']\n"
          ]
        }
      ]
    },
    {
      "cell_type": "code",
      "source": [
        "print (my_list[2:4])"
      ],
      "metadata": {
        "colab": {
          "base_uri": "https://localhost:8080/"
        },
        "id": "QbeLZryxdvD7",
        "outputId": "4dffee5c-3fb2-47a4-ca5a-8d27db2d83be"
      },
      "execution_count": 25,
      "outputs": [
        {
          "output_type": "stream",
          "name": "stdout",
          "text": [
            "['Alfred R. Wallace', 'Charles Darwin']\n"
          ]
        }
      ]
    },
    {
      "cell_type": "code",
      "source": [
        "my_string = \"HelloWorldCharlesDarwinAlfred R. Wallace\"\n",
        "print (my_string[0:5],my_string[5:10])"
      ],
      "metadata": {
        "colab": {
          "base_uri": "https://localhost:8080/"
        },
        "id": "WvT-CuzUd4_T",
        "outputId": "6c5e2dc6-e727-4ab6-e72a-672516818472"
      },
      "execution_count": 26,
      "outputs": [
        {
          "output_type": "stream",
          "name": "stdout",
          "text": [
            "Hello World\n"
          ]
        }
      ]
    },
    {
      "cell_type": "code",
      "source": [
        "print (my_string[33:],my_string[5:10])"
      ],
      "metadata": {
        "colab": {
          "base_uri": "https://localhost:8080/"
        },
        "id": "M9J8gEMEeJoS",
        "outputId": "9ccf704c-5331-4ce3-da08-6fd874b5bf09"
      },
      "execution_count": 27,
      "outputs": [
        {
          "output_type": "stream",
          "name": "stdout",
          "text": [
            "Wallace World\n"
          ]
        }
      ]
    },
    {
      "cell_type": "code",
      "source": [
        "a = 967\n",
        "b = 843\n",
        "c_squared = a**2 + b**2\n",
        "print(c_squared)"
      ],
      "metadata": {
        "colab": {
          "base_uri": "https://localhost:8080/"
        },
        "id": "sePQr-IGgcYR",
        "outputId": "2b48863b-6411-4a5a-a539-ad8687330104"
      },
      "execution_count": 28,
      "outputs": [
        {
          "output_type": "stream",
          "name": "stdout",
          "text": [
            "1645738\n"
          ]
        }
      ]
    },
    {
      "cell_type": "code",
      "source": [],
      "metadata": {
        "id": "Jt13RvZVhnb_"
      },
      "execution_count": null,
      "outputs": []
    },
    {
      "cell_type": "code",
      "source": [
        "# Given two numbers a = 967 and b = 843 calculate the square of the hypotenuse\n",
        "a = 967\n",
        "b = 843\n",
        "c_squared = a**2 + b**2\n",
        "print(c_squared)"
      ],
      "metadata": {
        "colab": {
          "base_uri": "https://localhost:8080/"
        },
        "id": "hZHXMPT7haMA",
        "outputId": "8cd2749b-d683-4afe-aff8-2abb9eb5ae02"
      },
      "execution_count": 30,
      "outputs": [
        {
          "output_type": "stream",
          "name": "stdout",
          "text": [
            "1645738\n"
          ]
        }
      ]
    },
    {
      "cell_type": "code",
      "source": [
        "jI55OBombus8PfeHH7uxtzicOUH3sPUJteSjXWRtHW0FlvionjzhLEMKbxgKThgc6j1v6gyhgUEwP99Yqf6mCrn0sYGdkIhUALMbERt13QMTSbs8oyp6RVPdOsmgvWyA2i8F0OcXAZbbGugl7ftm69w4MqYaOa1bkJyLkndFowJhpYLdE5jKPp3EaMs6.\n"
      ],
      "metadata": {
        "colab": {
          "base_uri": "https://localhost:8080/",
          "height": 161
        },
        "id": "qW8B-7cZiXDO",
        "outputId": "60c62309-751c-4474-9834-fb3d14b6c662"
      },
      "execution_count": 31,
      "outputs": [
        {
          "output_type": "error",
          "ename": "SyntaxError",
          "evalue": "invalid syntax (ipython-input-3482191860.py, line 1)",
          "traceback": [
            "\u001b[0;36m  File \u001b[0;32m\"/tmp/ipython-input-3482191860.py\"\u001b[0;36m, line \u001b[0;32m1\u001b[0m\n\u001b[0;31m    jI55OBombus8PfeHH7uxtzicOUH3sPUJteSjXWRtHW0FlvionjzhLEMKbxgKThgc6j1v6gyhgUEwP99Yqf6mCrn0sYGdkIhUALMbERt13QMTSbs8oyp6RVPdOsmgvWyA2i8F0OcXAZbbGugl7ftm69w4MqYaOa1bkJyLkndFowJhpYLdE5jKPp3EaMs6.\u001b[0m\n\u001b[0m                                                                                                                                                                                                 ^\u001b[0m\n\u001b[0;31mSyntaxError\u001b[0m\u001b[0;31m:\u001b[0m invalid syntax\n"
          ]
        }
      ]
    },
    {
      "cell_type": "code",
      "source": [
        "# Define the input string\n",
        "s = \"jI55OBombus8PfeHH7uxtzicOUH3sPUJteSjXWRtHW0FlvionjzhLEMKbxgKThgc6j1v6gyhgUEwP99Yqf6mCrn0sYGdkIhUALMbERt13QMTSbs8oyp6RVPdOsmgvWyA2i8F0OcXAZbbGugl7ftm69w4MqYaOa1bkJyLkndFowJhpYLdE5jKPp3EaMs6.\"\n",
        "\n",
        "# Define the slice indices\n",
        "a = 5\n",
        "b = 10\n",
        "c = 46\n",
        "d = 48\n",
        "\n",
        "# Slice the string (remember to add 1 to the end index to include it)\n",
        "part1 = s[a:b+1]\n",
        "part2 = s[c:d+1]\n",
        "\n",
        "# Print the result with a space in between\n",
        "print(part1 + \" \" + part2)\n"
      ],
      "metadata": {
        "colab": {
          "base_uri": "https://localhost:8080/"
        },
        "id": "Qc8SyisQiYa1",
        "outputId": "fcf6373c-e919-443b-c9d4-2a5a1b5c33a9"
      },
      "execution_count": 32,
      "outputs": [
        {
          "output_type": "stream",
          "name": "stdout",
          "text": [
            "Bombus ion\n"
          ]
        }
      ]
    },
    {
      "cell_type": "code",
      "source": [
        "s[a to b] + \" \" + s[c to d]\n"
      ],
      "metadata": {
        "colab": {
          "base_uri": "https://localhost:8080/",
          "height": 106
        },
        "id": "fXCFeZ_qid1H",
        "outputId": "e14a7b9f-f8fe-4421-ad03-4d6c1f2beab0"
      },
      "execution_count": 33,
      "outputs": [
        {
          "output_type": "error",
          "ename": "SyntaxError",
          "evalue": "invalid syntax. Perhaps you forgot a comma? (ipython-input-3109120640.py, line 1)",
          "traceback": [
            "\u001b[0;36m  File \u001b[0;32m\"/tmp/ipython-input-3109120640.py\"\u001b[0;36m, line \u001b[0;32m1\u001b[0m\n\u001b[0;31m    s[a to b] + \" \" + s[c to d]\u001b[0m\n\u001b[0m      ^\u001b[0m\n\u001b[0;31mSyntaxError\u001b[0m\u001b[0;31m:\u001b[0m invalid syntax. Perhaps you forgot a comma?\n"
          ]
        }
      ]
    },
    {
      "cell_type": "code",
      "source": [
        "s = \"jI55OBombus8PfeHH7uxtzicOUH3sPUJteSjXWRtHW0FlvionjzhLEMKbxgKThgc6j1v6gyhgUEwP99Yqf6mCrn0sYGdkIhUALMbERt13QMTSbs8oyp6RVPdOsmgvWyA2i8F0OcXAZbbGugl7ftm69w4MqYaOa1bkJyLkndFowJhpYLdE5jKPp3EaMs6.\"\n",
        "\n",
        "a = 5\n",
        "b = 10\n",
        "c = 46\n",
        "d = 48\n",
        "\n",
        "# Include the end index by using +1\n",
        "part1 = s[a:b+1]\n",
        "part2 = s[c:d+1]\n",
        "\n",
        "print(part1 + \" \" + part2)\n",
        "\n"
      ],
      "metadata": {
        "colab": {
          "base_uri": "https://localhost:8080/"
        },
        "id": "q9KVqmYlilGK",
        "outputId": "27b70f97-4151-47a2-9a25-b108782e9508"
      },
      "execution_count": 34,
      "outputs": [
        {
          "output_type": "stream",
          "name": "stdout",
          "text": [
            "Bombus ion\n"
          ]
        }
      ]
    },
    {
      "cell_type": "code",
      "source": [
        "a = 7\n",
        "b = 7\n",
        "\n",
        "if a == b:\n",
        "    result = a + b\n",
        "else:\n",
        "    result = a - b\n",
        "\n",
        "print(\"Result:\", result)"
      ],
      "metadata": {
        "colab": {
          "base_uri": "https://localhost:8080/"
        },
        "id": "37SIsT99io4C",
        "outputId": "d915349a-0324-4c8d-f135-e6d6a5544098"
      },
      "execution_count": 35,
      "outputs": [
        {
          "output_type": "stream",
          "name": "stdout",
          "text": [
            "Result: 14\n"
          ]
        }
      ]
    },
    {
      "cell_type": "code",
      "source": [
        "a = 3\n",
        "b = 9\n",
        "\n",
        "if a == b:\n",
        "    result = a + b\n",
        "else:\n",
        "    result = a - b\n",
        "\n",
        "print(\"Result:\", result)"
      ],
      "metadata": {
        "colab": {
          "base_uri": "https://localhost:8080/"
        },
        "id": "CcyPetcNjS_7",
        "outputId": "215565df-15c6-439f-9698-4fdc67463c4c"
      },
      "execution_count": 36,
      "outputs": [
        {
          "output_type": "stream",
          "name": "stdout",
          "text": [
            "Result: -6\n"
          ]
        }
      ]
    },
    {
      "cell_type": "code",
      "source": [
        "a = 1\n",
        "\n",
        "while a <= 3:\n",
        "    print(\"Counting!\", a)\n",
        "    a += 1"
      ],
      "metadata": {
        "colab": {
          "base_uri": "https://localhost:8080/"
        },
        "id": "yaYk_lQrjYh3",
        "outputId": "c6e3e5fa-af8f-4147-8e91-06df95b6dedd"
      },
      "execution_count": 37,
      "outputs": [
        {
          "output_type": "stream",
          "name": "stdout",
          "text": [
            "Counting! 1\n",
            "Counting! 2\n",
            "Counting! 3\n"
          ]
        }
      ]
    },
    {
      "cell_type": "code",
      "source": [
        "names = [\"Alice\", \"Bob\", \"Charley\"]\n",
        "\n",
        "for name in names:\n",
        "    print(\"Hello\", name)"
      ],
      "metadata": {
        "colab": {
          "base_uri": "https://localhost:8080/"
        },
        "id": "9bYuTP3cjdop",
        "outputId": "5804c593-1908-4e49-e630-037621193e93"
      },
      "execution_count": 38,
      "outputs": [
        {
          "output_type": "stream",
          "name": "stdout",
          "text": [
            "Hello Alice\n",
            "Hello Bob\n",
            "Hello Charley\n"
          ]
        }
      ]
    },
    {
      "cell_type": "code",
      "source": [
        "# Create a variable to define the number of interactions\n",
        "iterations = 10\n",
        "\n",
        "#Print the current item's value each time through the loop\n",
        "for number in range(iterations):\n",
        "    print(\"Number:\", number)\n"
      ],
      "metadata": {
        "colab": {
          "base_uri": "https://localhost:8080/"
        },
        "id": "7YUiG10LjrCV",
        "outputId": "904413d6-ddde-43d1-931f-6c1dae60cad9"
      },
      "execution_count": 39,
      "outputs": [
        {
          "output_type": "stream",
          "name": "stdout",
          "text": [
            "Number: 0\n",
            "Number: 1\n",
            "Number: 2\n",
            "Number: 3\n",
            "Number: 4\n",
            "Number: 5\n",
            "Number: 6\n",
            "Number: 7\n",
            "Number: 8\n",
            "Number: 9\n"
          ]
        }
      ]
    },
    {
      "cell_type": "code",
      "source": [
        "# Replace with your actual input from the dataset\n",
        "a = 100\n",
        "b = 200\n",
        "\n",
        "# Initialize sum\n",
        "odd_sum = 0\n",
        "\n",
        "# Loop through all numbers from a to b (inclusive)\n",
        "for number in range(a, b + 1):\n",
        "    if number % 2 == 1:  # Check if the number is odd\n",
        "        odd_sum += number  # Add it to the sum\n",
        "\n",
        "# Print the result\n",
        "print(\"Sum of odd numbers:\", odd_sum)\n"
      ],
      "metadata": {
        "colab": {
          "base_uri": "https://localhost:8080/"
        },
        "id": "xYheyH3_j55f",
        "outputId": "f2a67827-0352-47d5-f6e3-f0baf860be81"
      },
      "execution_count": 40,
      "outputs": [
        {
          "output_type": "stream",
          "name": "stdout",
          "text": [
            "Sum of odd numbers: 7500\n"
          ]
        }
      ]
    },
    {
      "cell_type": "code",
      "source": [
        "# Given dataset\n",
        "a = 4549\n",
        "b = 9038\n",
        "\n",
        "# Initialize sum\n",
        "odd_sum = 0\n",
        "\n",
        "# Loop through all numbers from a to b (inclusive)\n",
        "for number in range(a, b + 1):\n",
        "    if number % 2 == 1:  # Check if the number is odd\n",
        "        odd_sum += number  # Add to the sum\n",
        "\n",
        "# Print the result\n",
        "print(\"Sum of odd numbers:\", odd_sum)\n"
      ],
      "metadata": {
        "colab": {
          "base_uri": "https://localhost:8080/"
        },
        "id": "Vl8b4E2hkY3o",
        "outputId": "ea2e2a84-b9ff-4f0f-e949-aa321ff13eb9"
      },
      "execution_count": 43,
      "outputs": [
        {
          "output_type": "stream",
          "name": "stdout",
          "text": [
            "Sum of odd numbers: 15250285\n"
          ]
        }
      ]
    },
    {
      "cell_type": "code",
      "source": [
        "with open(\"practice.txt\", \"r\") as data:\n",
        "\n",
        "    print(data.read())\n"
      ],
      "metadata": {
        "colab": {
          "base_uri": "https://localhost:8080/",
          "height": 176
        },
        "id": "fbkSqHyYkcHV",
        "outputId": "90acb01b-0ed2-4745-d525-7b404457f8b8"
      },
      "execution_count": 44,
      "outputs": [
        {
          "output_type": "error",
          "ename": "FileNotFoundError",
          "evalue": "[Errno 2] No such file or directory: 'practice.txt'",
          "traceback": [
            "\u001b[0;31m---------------------------------------------------------------------------\u001b[0m",
            "\u001b[0;31mFileNotFoundError\u001b[0m                         Traceback (most recent call last)",
            "\u001b[0;32m/tmp/ipython-input-1988118383.py\u001b[0m in \u001b[0;36m<cell line: 0>\u001b[0;34m()\u001b[0m\n\u001b[0;32m----> 1\u001b[0;31m \u001b[0;32mwith\u001b[0m \u001b[0mopen\u001b[0m\u001b[0;34m(\u001b[0m\u001b[0;34m\"practice.txt\"\u001b[0m\u001b[0;34m,\u001b[0m \u001b[0;34m\"r\"\u001b[0m\u001b[0;34m)\u001b[0m \u001b[0;32mas\u001b[0m \u001b[0mdata\u001b[0m\u001b[0;34m:\u001b[0m\u001b[0;34m\u001b[0m\u001b[0;34m\u001b[0m\u001b[0m\n\u001b[0m\u001b[1;32m      2\u001b[0m \u001b[0;34m\u001b[0m\u001b[0m\n\u001b[1;32m      3\u001b[0m     \u001b[0mprint\u001b[0m\u001b[0;34m(\u001b[0m\u001b[0mdata\u001b[0m\u001b[0;34m.\u001b[0m\u001b[0mread\u001b[0m\u001b[0;34m(\u001b[0m\u001b[0;34m)\u001b[0m\u001b[0;34m)\u001b[0m\u001b[0;34m\u001b[0m\u001b[0;34m\u001b[0m\u001b[0m\n",
            "\u001b[0;31mFileNotFoundError\u001b[0m: [Errno 2] No such file or directory: 'practice.txt'"
          ]
        }
      ]
    },
    {
      "cell_type": "code",
      "source": [
        "a = 4269\n",
        "b = 8832\n",
        "\n",
        "\n",
        "odd_sum = sum(i for i in range(a, b + 1) if i % 2 == 1)\n",
        "print(odd_sum)\n"
      ],
      "metadata": {
        "colab": {
          "base_uri": "https://localhost:8080/"
        },
        "id": "GNzIEg-LmUNw",
        "outputId": "32368d6b-c6d9-4fa1-957e-552808da5b62"
      },
      "execution_count": 45,
      "outputs": [
        {
          "output_type": "stream",
          "name": "stdout",
          "text": [
            "14947100\n"
          ]
        }
      ]
    },
    {
      "cell_type": "code",
      "source": [
        "with open(\"rosalind_ini5.txt\", \"r\") as data:\n",
        "    print(data.read())"
      ],
      "metadata": {
        "colab": {
          "base_uri": "https://localhost:8080/"
        },
        "id": "Aor_uSGkmWOh",
        "outputId": "12213792-6a5c-42d3-969c-d17fec7770d9"
      },
      "execution_count": 47,
      "outputs": [
        {
          "output_type": "stream",
          "name": "stdout",
          "text": [
            "`Twas brillig, and the slithy toves\n",
            "Some things in life are bad, they can really make you mad\n",
            "  Did gyre and gimble in the wabe:\n",
            "Other things just make you swear and curse\n",
            "All mimsy were the borogoves,\n",
            "When you're chewing on life's gristle, don't grumble give a whistle\n",
            "  And the mome raths outgrabe.\n",
            "This will help things turn out for the best\n",
            "\"Beware the Jabberwock, my son!\n",
            "Always look on the bright side of life\n",
            "  The jaws that bite, the claws that catch!\n",
            "Always look on the right side of life\n",
            "Beware the Jubjub bird, and shun\n",
            "If life seems jolly rotten, there's something you've forgotten\n",
            "  The frumious Bandersnatch!\"\n",
            "And that's to laugh and smile and dance and sing\n",
            "He took his vorpal sword in hand:\n",
            "When you're feeling in the dumps, don't be silly, chumps\n",
            "  Long time the manxome foe he sought --\n",
            "Just purse your lips and whistle, that's the thing\n",
            "So rested he by the Tumtum tree,\n",
            "So, always look on the bright side of death\n",
            "  And stood awhile in thought.\n",
            "Just before you draw your terminal breath\n",
            "And, as in uffish thought he stood,\n",
            "Life's a counterfeit and when you look at it\n",
            "  The Jabberwock, with eyes of flame,\n",
            "Life's a laugh and death's the joke, it's true\n",
            "Came whiffling through the tulgey wood,\n",
            "You see, it's all a show, keep them laughing as you go\n",
            "  And burbled as it came!\n",
            "Just remember the last laugh is on you\n",
            "One, two! One, two! And through and through\n",
            "Always look on the bright side of life\n",
            "  The vorpal blade went snicker-snack!\n",
            "And always look on the right side of life\n",
            "He left it dead, and with its head\n",
            "Always look on the bright side of life\n",
            "  He went galumphing back.\n",
            "And always look on the right side of life\n",
            "\n"
          ]
        }
      ]
    },
    {
      "cell_type": "code",
      "source": [
        "with open(\"rosalind_ini5.txt\", \"r\") as data:\n",
        "    lines = data.readlines()\n",
        "\n",
        "print (list_of_lines)"
      ],
      "metadata": {
        "colab": {
          "base_uri": "https://localhost:8080/",
          "height": 176
        },
        "id": "-pZ8Q2UzoA4O",
        "outputId": "528f4d60-6102-45be-8b8d-362e22dc89a8"
      },
      "execution_count": 49,
      "outputs": [
        {
          "output_type": "error",
          "ename": "NameError",
          "evalue": "name 'list_of_lines' is not defined",
          "traceback": [
            "\u001b[0;31m---------------------------------------------------------------------------\u001b[0m",
            "\u001b[0;31mNameError\u001b[0m                                 Traceback (most recent call last)",
            "\u001b[0;32m/tmp/ipython-input-2345837748.py\u001b[0m in \u001b[0;36m<cell line: 0>\u001b[0;34m()\u001b[0m\n\u001b[1;32m      2\u001b[0m     \u001b[0mlines\u001b[0m \u001b[0;34m=\u001b[0m \u001b[0mdata\u001b[0m\u001b[0;34m.\u001b[0m\u001b[0mreadlines\u001b[0m\u001b[0;34m(\u001b[0m\u001b[0;34m)\u001b[0m\u001b[0;34m\u001b[0m\u001b[0;34m\u001b[0m\u001b[0m\n\u001b[1;32m      3\u001b[0m \u001b[0;34m\u001b[0m\u001b[0m\n\u001b[0;32m----> 4\u001b[0;31m \u001b[0mprint\u001b[0m \u001b[0;34m(\u001b[0m\u001b[0mlist_of_lines\u001b[0m\u001b[0;34m)\u001b[0m\u001b[0;34m\u001b[0m\u001b[0;34m\u001b[0m\u001b[0m\n\u001b[0m",
            "\u001b[0;31mNameError\u001b[0m: name 'list_of_lines' is not defined"
          ]
        }
      ]
    },
    {
      "cell_type": "code",
      "source": [
        "with open(\"practice.txt\",\"r\") as data:\n",
        "\n",
        "  print (data.read())"
      ],
      "metadata": {
        "colab": {
          "base_uri": "https://localhost:8080/"
        },
        "id": "zL4nL53CoUcX",
        "outputId": "3614cf57-42a2-4968-a5f2-953a48c402de"
      },
      "execution_count": 53,
      "outputs": [
        {
          "output_type": "stream",
          "name": "stdout",
          "text": [
            "`Twas brillig, and the slithy toves\n",
            "Some things in life are bad, they can really make you mad\n",
            "  Did gyre and gimble in the wabe:\n",
            "Other things just make you swear and curse\n",
            "All mimsy were the borogoves,\n",
            "When you're chewing on life's gristle, don't grumble give a whistle\n",
            "  And the mome raths outgrabe.\n",
            "This will help things turn out for the best\n",
            "\"Beware the Jabberwock, my son!\n",
            "Always look on the bright side of life\n",
            "  The jaws that bite, the claws that catch!\n",
            "Always look on the right side of life\n",
            "Beware the Jubjub bird, and shun\n",
            "If life seems jolly rotten, there's something you've forgotten\n",
            "  The frumious Bandersnatch!\"\n",
            "And that's to laugh and smile and dance and sing\n",
            "He took his vorpal sword in hand:\n",
            "When you're feeling in the dumps, don't be silly, chumps\n",
            "  Long time the manxome foe he sought --\n",
            "Just purse your lips and whistle, that's the thing\n",
            "So rested he by the Tumtum tree,\n",
            "So, always look on the bright side of death\n",
            "  And stood awhile in thought.\n",
            "Just before you draw your terminal breath\n",
            "And, as in uffish thought he stood,\n",
            "Life's a counterfeit and when you look at it\n",
            "  The Jabberwock, with eyes of flame,\n",
            "Life's a laugh and death's the joke, it's true\n",
            "Came whiffling through the tulgey wood,\n",
            "You see, it's all a show, keep them laughing as you go\n",
            "  And burbled as it came!\n",
            "Just remember the last laugh is on you\n",
            "One, two! One, two! And through and through\n",
            "Always look on the bright side of life\n",
            "  The vorpal blade went snicker-snack!\n",
            "And always look on the right side of life\n",
            "He left it dead, and with its head\n",
            "Always look on the bright side of life\n",
            "  He went galumphing back.\n",
            "And always look on the right side of life\n",
            "\n"
          ]
        }
      ]
    },
    {
      "cell_type": "code",
      "source": [
        "with open(\"practice.txt\",\"r\") as data:\n",
        "\n",
        "  print (data.readline())"
      ],
      "metadata": {
        "colab": {
          "base_uri": "https://localhost:8080/"
        },
        "id": "xkR2_yurqhk8",
        "outputId": "a7572ebf-8eb3-49ce-e2ed-7d732aa585c2"
      },
      "execution_count": 54,
      "outputs": [
        {
          "output_type": "stream",
          "name": "stdout",
          "text": [
            "`Twas brillig, and the slithy toves\n",
            "\n"
          ]
        }
      ]
    },
    {
      "cell_type": "code",
      "source": [
        "with open(\"practice.txt\",\"r\") as data:\n",
        "\n",
        "  list_of_lines=data.readlines()\n",
        "\n",
        "print (list_of_lines)"
      ],
      "metadata": {
        "colab": {
          "base_uri": "https://localhost:8080/"
        },
        "id": "B3Mp6xVLqvUX",
        "outputId": "aac9e966-c568-4689-baf0-5c2d5372d034"
      },
      "execution_count": 57,
      "outputs": [
        {
          "output_type": "stream",
          "name": "stdout",
          "text": [
            "['`Twas brillig, and the slithy toves\\n', 'Some things in life are bad, they can really make you mad\\n', '  Did gyre and gimble in the wabe:\\n', 'Other things just make you swear and curse\\n', 'All mimsy were the borogoves,\\n', \"When you're chewing on life's gristle, don't grumble give a whistle\\n\", '  And the mome raths outgrabe.\\n', 'This will help things turn out for the best\\n', '\"Beware the Jabberwock, my son!\\n', 'Always look on the bright side of life\\n', '  The jaws that bite, the claws that catch!\\n', 'Always look on the right side of life\\n', 'Beware the Jubjub bird, and shun\\n', \"If life seems jolly rotten, there's something you've forgotten\\n\", '  The frumious Bandersnatch!\"\\n', \"And that's to laugh and smile and dance and sing\\n\", 'He took his vorpal sword in hand:\\n', \"When you're feeling in the dumps, don't be silly, chumps\\n\", '  Long time the manxome foe he sought --\\n', \"Just purse your lips and whistle, that's the thing\\n\", 'So rested he by the Tumtum tree,\\n', 'So, always look on the bright side of death\\n', '  And stood awhile in thought.\\n', 'Just before you draw your terminal breath\\n', 'And, as in uffish thought he stood,\\n', \"Life's a counterfeit and when you look at it\\n\", '  The Jabberwock, with eyes of flame,\\n', \"Life's a laugh and death's the joke, it's true\\n\", 'Came whiffling through the tulgey wood,\\n', \"You see, it's all a show, keep them laughing as you go\\n\", '  And burbled as it came!\\n', 'Just remember the last laugh is on you\\n', 'One, two! One, two! And through and through\\n', 'Always look on the bright side of life\\n', '  The vorpal blade went snicker-snack!\\n', 'And always look on the right side of life\\n', 'He left it dead, and with its head\\n', 'Always look on the bright side of life\\n', '  He went galumphing back.\\n', 'And always look on the right side of life\\n']\n"
          ]
        }
      ]
    },
    {
      "cell_type": "code",
      "source": [
        "with open(\"practice.txt\",\"r\") as data:\n",
        "\n",
        "  print(\"\".join(list_of_lines))"
      ],
      "metadata": {
        "colab": {
          "base_uri": "https://localhost:8080/"
        },
        "id": "7I1MOdzMqxOu",
        "outputId": "8a255353-b7ff-42f0-c84a-0dce9433ef10"
      },
      "execution_count": 60,
      "outputs": [
        {
          "output_type": "stream",
          "name": "stdout",
          "text": [
            "`Twas brillig, and the slithy toves\n",
            "Some things in life are bad, they can really make you mad\n",
            "  Did gyre and gimble in the wabe:\n",
            "Other things just make you swear and curse\n",
            "All mimsy were the borogoves,\n",
            "When you're chewing on life's gristle, don't grumble give a whistle\n",
            "  And the mome raths outgrabe.\n",
            "This will help things turn out for the best\n",
            "\"Beware the Jabberwock, my son!\n",
            "Always look on the bright side of life\n",
            "  The jaws that bite, the claws that catch!\n",
            "Always look on the right side of life\n",
            "Beware the Jubjub bird, and shun\n",
            "If life seems jolly rotten, there's something you've forgotten\n",
            "  The frumious Bandersnatch!\"\n",
            "And that's to laugh and smile and dance and sing\n",
            "He took his vorpal sword in hand:\n",
            "When you're feeling in the dumps, don't be silly, chumps\n",
            "  Long time the manxome foe he sought --\n",
            "Just purse your lips and whistle, that's the thing\n",
            "So rested he by the Tumtum tree,\n",
            "So, always look on the bright side of death\n",
            "  And stood awhile in thought.\n",
            "Just before you draw your terminal breath\n",
            "And, as in uffish thought he stood,\n",
            "Life's a counterfeit and when you look at it\n",
            "  The Jabberwock, with eyes of flame,\n",
            "Life's a laugh and death's the joke, it's true\n",
            "Came whiffling through the tulgey wood,\n",
            "You see, it's all a show, keep them laughing as you go\n",
            "  And burbled as it came!\n",
            "Just remember the last laugh is on you\n",
            "One, two! One, two! And through and through\n",
            "Always look on the bright side of life\n",
            "  The vorpal blade went snicker-snack!\n",
            "And always look on the right side of life\n",
            "He left it dead, and with its head\n",
            "Always look on the bright side of life\n",
            "  He went galumphing back.\n",
            "And always look on the right side of life\n",
            "\n"
          ]
        }
      ]
    },
    {
      "cell_type": "code",
      "source": [
        "with open(\"practice.txt\", \"r\") as data:\n",
        "    lines = data.readlines()\n",
        "\n",
        "\n",
        "even_lines = lines[1::2]\n",
        "\n",
        "with open(\"even_lines.txt\", \"w\") as out_file:\n",
        "    out_file.writelines(even_lines)\n"
      ],
      "metadata": {
        "id": "Vu-G6BPhrJgQ"
      },
      "execution_count": 62,
      "outputs": []
    },
    {
      "cell_type": "code",
      "source": [
        "Some things in life are bad, they can really make you mad\n",
        "Other things just make you swear and curse\n",
        "When you're chewing on life's gristle, don't grumble give a whistle\n",
        "This will help things turn out for the best\n",
        "Always look on the bright side of life\n",
        "  The jaws that bite, the claws that catch!\n",
        "Always look on the right side of life\n",
        "If life seems jolly rotten, there's something you've forgotten\n",
        "And that's to laugh and smile and dance and sing\n",
        "When you're feeling in the dumps, don't be silly, chumps\n",
        "Just purse your lips and whistle, that's the thing\n",
        "So, always look on the bright side of death\n",
        "Just before you draw your terminal breath\n",
        "And, as in uffish thought he stood,\n",
        "Life's a counterfeit and when you look at it\n",
        "  The Jabberwock, with eyes of flame,\n",
        "Life's a laugh and death's the joke, it's true\n",
        "You see, it's all a show, keep them laughing as you go\n",
        "One, two! One, two! And through and through\n",
        "  The vorpal blade went snicker-snack!\n",
        "He left it dead, and with its head\n",
        "  He went galumphing back.\n"
      ],
      "metadata": {
        "colab": {
          "base_uri": "https://localhost:8080/",
          "height": 106
        },
        "id": "PkcdRCl7r_Rq",
        "outputId": "fe649e01-c1ca-4db0-b498-2290692f88ff"
      },
      "execution_count": 63,
      "outputs": [
        {
          "output_type": "error",
          "ename": "SyntaxError",
          "evalue": "unterminated string literal (detected at line 3) (ipython-input-2115265833.py, line 3)",
          "traceback": [
            "\u001b[0;36m  File \u001b[0;32m\"/tmp/ipython-input-2115265833.py\"\u001b[0;36m, line \u001b[0;32m3\u001b[0m\n\u001b[0;31m    When you're chewing on life's gristle, don't grumble give a whistle\u001b[0m\n\u001b[0m                                              ^\u001b[0m\n\u001b[0;31mSyntaxError\u001b[0m\u001b[0;31m:\u001b[0m unterminated string literal (detected at line 3)\n"
          ]
        }
      ]
    },
    {
      "cell_type": "code",
      "source": [
        "with open(\"practice.txt\", \"r\") as data:\n",
        "    for line in data:\n",
        "        for word in line.split():\n",
        "            print(word)\n"
      ],
      "metadata": {
        "colab": {
          "base_uri": "https://localhost:8080/",
          "height": 193
        },
        "id": "3hBM5sNBsIne",
        "outputId": "41de6dad-df13-4136-8a6f-f8229ee7d9bd"
      },
      "execution_count": 64,
      "outputs": [
        {
          "output_type": "error",
          "ename": "FileNotFoundError",
          "evalue": "[Errno 2] No such file or directory: 'practice_5.txt'",
          "traceback": [
            "\u001b[0;31m---------------------------------------------------------------------------\u001b[0m",
            "\u001b[0;31mFileNotFoundError\u001b[0m                         Traceback (most recent call last)",
            "\u001b[0;32m/tmp/ipython-input-4208713551.py\u001b[0m in \u001b[0;36m<cell line: 0>\u001b[0;34m()\u001b[0m\n\u001b[0;32m----> 1\u001b[0;31m \u001b[0;32mwith\u001b[0m \u001b[0mopen\u001b[0m\u001b[0;34m(\u001b[0m\u001b[0;34m\"practice_5.txt\"\u001b[0m\u001b[0;34m,\u001b[0m \u001b[0;34m\"r\"\u001b[0m\u001b[0;34m)\u001b[0m \u001b[0;32mas\u001b[0m \u001b[0mdata\u001b[0m\u001b[0;34m:\u001b[0m\u001b[0;34m\u001b[0m\u001b[0;34m\u001b[0m\u001b[0m\n\u001b[0m\u001b[1;32m      2\u001b[0m     \u001b[0;32mfor\u001b[0m \u001b[0mline\u001b[0m \u001b[0;32min\u001b[0m \u001b[0mdata\u001b[0m\u001b[0;34m:\u001b[0m\u001b[0;34m\u001b[0m\u001b[0;34m\u001b[0m\u001b[0m\n\u001b[1;32m      3\u001b[0m         \u001b[0;32mfor\u001b[0m \u001b[0mword\u001b[0m \u001b[0;32min\u001b[0m \u001b[0mline\u001b[0m\u001b[0;34m.\u001b[0m\u001b[0msplit\u001b[0m\u001b[0;34m(\u001b[0m\u001b[0;34m)\u001b[0m\u001b[0;34m:\u001b[0m\u001b[0;34m\u001b[0m\u001b[0;34m\u001b[0m\u001b[0m\n\u001b[1;32m      4\u001b[0m             \u001b[0mprint\u001b[0m\u001b[0;34m(\u001b[0m\u001b[0mword\u001b[0m\u001b[0;34m)\u001b[0m\u001b[0;34m\u001b[0m\u001b[0;34m\u001b[0m\u001b[0m\n",
            "\u001b[0;31mFileNotFoundError\u001b[0m: [Errno 2] No such file or directory: 'practice_5.txt'"
          ]
        }
      ]
    },
    {
      "cell_type": "code",
      "source": [
        "s = \"\"\"When I find myself in times of trouble Mother Mary comes to me Speaking words of wisdom let it be\n",
        "And in my hour of darkness she is standing right in front of me Speaking words of wisdom let it be\n",
        "Let it be let it be let it be let it be Whisper words of wisdom let it be\n",
        "And when the broken hearted people living in the world agree There will be an answer let it be\n",
        "For though they may be parted there is still a chance that they will see There will be an answer let it be\n",
        "Let it be let it be let it be let it be There will be an answer let it be\n",
        "Let it be let it be let it be let it be Whisper words of wisdom let it be\n",
        "Let it be let it be let it be let it be Whisper words of wisdom let it be\n",
        "And when the night is cloudy there is still a light that shines on me Shine until tomorrow let it be\n",
        "I wake up to the sound of music Mother Mary comes to me Speaking words of wisdom let it be\n",
        "Let it be let it be let it be yeah let it be There will be an answer let it be\n",
        "Let it be let it be let it be yeah let it be Whisper words of wisdom let it be\"\"\"\n",
        "\n",
        "word_counts = {}\n",
        "\n",
        "for word in s.split():\n",
        "    if word in word_counts:\n",
        "        word_counts[word] += 1\n",
        "    else:\n",
        "        word_counts[word] = 1\n",
        "\n",
        "for key, value in word_counts.items():\n",
        "    print(key, value)\n"
      ],
      "metadata": {
        "colab": {
          "base_uri": "https://localhost:8080/"
        },
        "id": "kX-iJTTCs81x",
        "outputId": "ff7d0ba1-1812-45bc-d99f-4620f219e00e"
      },
      "execution_count": 65,
      "outputs": [
        {
          "output_type": "stream",
          "name": "stdout",
          "text": [
            "When 1\n",
            "I 2\n",
            "find 1\n",
            "myself 1\n",
            "in 4\n",
            "times 1\n",
            "of 11\n",
            "trouble 1\n",
            "Mother 2\n",
            "Mary 2\n",
            "comes 2\n",
            "to 3\n",
            "me 4\n",
            "Speaking 3\n",
            "words 7\n",
            "wisdom 7\n",
            "let 30\n",
            "it 36\n",
            "be 41\n",
            "And 3\n",
            "my 1\n",
            "hour 1\n",
            "darkness 1\n",
            "she 1\n",
            "is 4\n",
            "standing 1\n",
            "right 1\n",
            "front 1\n",
            "Let 6\n",
            "Whisper 4\n",
            "when 2\n",
            "the 4\n",
            "broken 1\n",
            "hearted 1\n",
            "people 1\n",
            "living 1\n",
            "world 1\n",
            "agree 1\n",
            "There 4\n",
            "will 5\n",
            "an 4\n",
            "answer 4\n",
            "For 1\n",
            "though 1\n",
            "they 2\n",
            "may 1\n",
            "parted 1\n",
            "there 2\n",
            "still 2\n",
            "a 2\n",
            "chance 1\n",
            "that 2\n",
            "see 1\n",
            "night 1\n",
            "cloudy 1\n",
            "light 1\n",
            "shines 1\n",
            "on 1\n",
            "Shine 1\n",
            "until 1\n",
            "tomorrow 1\n",
            "wake 1\n",
            "up 1\n",
            "sound 1\n",
            "music 1\n",
            "yeah 2\n"
          ]
        }
      ]
    },
    {
      "cell_type": "code",
      "source": [
        "dna = \"CTTTCCCCAAATCCAGTGTCTATCTTCCGACACGCGCACTCTTTTGTCTTCACCGGACGGGTCAATGGGGTTTCTACTCGAATCCGAACGTCCACTCAACTAGGATTACATCAACGCATAGTCGTTCGGGGCCTATAAGAGGTTAGGTCAATAGCCTACACCACGCCGAACGCTATGAGTTAACTCTTTCGGCATGCAGTATCTTTGGAGAACTCTTTCTGAACGAATGCCTATCAAAATCAGTCTCGATCTAAAGGGTCACCCGGACGTCCATGATGAGCAAAACTAGGAGAATTTTCGTTCCACTGCAGCTCCCTTGCAAGAGACGTTGGGAACTTAAAAGTTGACTGGCCAGGCCGTCAGTTGACTGCGAAAAGTTCAGGTTATATGTATCGAGCCGACTATGATATTGCTCACGTAAATTCATCGACGTGCAACGGTTTAAGCGACACCAAGAGGCGGCGCTATTATTTCTCGTAACGGGTAGGCCTCCCGACCGGATGGGATTGACGCACGTGTCAACCATTTTAAAAAGACATTCGACAGTCCGTAAACCATCCTCAGCAGATTGTACGATTGTATGGAGAATGCACTTAACGCTAACGACCCTTCACCTCCTACTTATTAGATCTATATCAAGGCGGTGAACGCAGAACGAAATCGGTAAGCTCTGTGTGAGGTTATGGGGTTAGGTAGAAAAAGTTGTAATATTGCACTCGATCAACGATATTTCTAGGTTCTGGGCCCCGCAGGTCGCCAACAGTTGCGTTATCGTTACGCGAATCCAGCAGAAAACAAAGAAAGTTGTCTCACAGTGCCTACACCGCCCCTGTCCGGCGTCGCTCCAATAGCAGCTCGGTTCATTCGAGGGGCGAGGTCTATGTGTGATATGGAAGGCTTGCGGGCCATTACGTTACCACATTTAAAAGATGAGCTGCGAATTCGCGCATGCAAGACTCCAGAGTCGTGCC\"\n",
        "\n",
        "count_A = dna.count(\"A\")\n",
        "count_C = dna.count(\"C\")\n",
        "count_G = dna.count(\"G\")\n",
        "count_T = dna.count(\"T\")\n",
        "\n",
        "print(count_A, count_C, count_G, count_T)\n"
      ],
      "metadata": {
        "colab": {
          "base_uri": "https://localhost:8080/"
        },
        "id": "Lg6oUTd-toWX",
        "outputId": "ccb4e674-b4ae-4357-925c-d524f8c959a3"
      },
      "execution_count": 66,
      "outputs": [
        {
          "output_type": "stream",
          "name": "stdout",
          "text": [
            "256 240 231 244\n"
          ]
        }
      ]
    },
    {
      "cell_type": "code",
      "source": [
        "dna_string = \"ATCACGAGATCCAATCCTAAGGAGAATAGTAAAAGAGAAAGGCGCGATTGCGTACATGCTTTTCTCATAATTAGTGTTAAGACCTTGCTTCTTTAGAGATGAAAAGCAGTAGGGGATCTCTTTCCTCCAATAGTTTTGGATTTACCGATAGGCATTTTGAAACCGTTACAGCTGTTTATCCGCAAGGAGCCAGCAATGGTAGATGATACTAGGCCGAACATGGCAGCGCATATCTTTTAGGCTTTCTTTCGCATTGCCGTATTAGATGACACGCTTGAGCCCAACACCGTCAGTCGAGTGACCCAAAATCACCAAGCCACACTAGTACTCACATAGCCACGATATGCTGGGCGGGTCAAGACGTCTCTTGACGAAGCAATTACTCGACCGTGCCGGTAGCCCCATGTTACTTTCATACAATTACCGACAGGCATAAACAAGAATAGCGCTCTCGCCGATCACACCATACGACGATAAAAGGATAGGTGGGTCGAGCCTCCGCCGGGTGCAGGCGCTAGTGCTATCCGGGACAAAGTCTCTAGCAGTAAAGGTCTGCACAATTCCGGCTTTCAATGTCCATAAGGAAACTCATCTGTTCATTGCGCAAGCTAGTGTGGATATAGACGTGGAGTTTACCCCCTAGGCGTGAGGCCATTATGGAGCCTGGGCTTTAAGGAGTTCGTACTAACAATGTACAACTAGCAGGCTACCTCGGAGACTGGGTAATATGATGTCACAGATGATTGCGCGCGACAATTGGTAATCCAAACATGGATGAAGAGCCGCGATAACGCCGGGTGAGCGTGAAATTAAACCTCCCGTTGCTGCAAACCAGGCTACTCAGCGTAATTAATGCCTACAGGGCGAAACTACAGTAAAGAAGAGCTAAGAAGTGCACGTTTGTCGAGTGTATAGAGTCACGAGA\"\n",
        "\n",
        "rna_string = dna_string.replace(\"T\", \"U\")\n",
        "\n",
        "print(rna_string)\n"
      ],
      "metadata": {
        "colab": {
          "base_uri": "https://localhost:8080/"
        },
        "id": "MV9kceBVuXB4",
        "outputId": "7e573c51-c098-4d61-d997-390ea5451380"
      },
      "execution_count": 67,
      "outputs": [
        {
          "output_type": "stream",
          "name": "stdout",
          "text": [
            "AUCACGAGAUCCAAUCCUAAGGAGAAUAGUAAAAGAGAAAGGCGCGAUUGCGUACAUGCUUUUCUCAUAAUUAGUGUUAAGACCUUGCUUCUUUAGAGAUGAAAAGCAGUAGGGGAUCUCUUUCCUCCAAUAGUUUUGGAUUUACCGAUAGGCAUUUUGAAACCGUUACAGCUGUUUAUCCGCAAGGAGCCAGCAAUGGUAGAUGAUACUAGGCCGAACAUGGCAGCGCAUAUCUUUUAGGCUUUCUUUCGCAUUGCCGUAUUAGAUGACACGCUUGAGCCCAACACCGUCAGUCGAGUGACCCAAAAUCACCAAGCCACACUAGUACUCACAUAGCCACGAUAUGCUGGGCGGGUCAAGACGUCUCUUGACGAAGCAAUUACUCGACCGUGCCGGUAGCCCCAUGUUACUUUCAUACAAUUACCGACAGGCAUAAACAAGAAUAGCGCUCUCGCCGAUCACACCAUACGACGAUAAAAGGAUAGGUGGGUCGAGCCUCCGCCGGGUGCAGGCGCUAGUGCUAUCCGGGACAAAGUCUCUAGCAGUAAAGGUCUGCACAAUUCCGGCUUUCAAUGUCCAUAAGGAAACUCAUCUGUUCAUUGCGCAAGCUAGUGUGGAUAUAGACGUGGAGUUUACCCCCUAGGCGUGAGGCCAUUAUGGAGCCUGGGCUUUAAGGAGUUCGUACUAACAAUGUACAACUAGCAGGCUACCUCGGAGACUGGGUAAUAUGAUGUCACAGAUGAUUGCGCGCGACAAUUGGUAAUCCAAACAUGGAUGAAGAGCCGCGAUAACGCCGGGUGAGCGUGAAAUUAAACCUCCCGUUGCUGCAAACCAGGCUACUCAGCGUAAUUAAUGCCUACAGGGCGAAACUACAGUAAAGAAGAGCUAAGAAGUGCACGUUUGUCGAGUGUAUAGAGUCACGAGA\n"
          ]
        }
      ]
    },
    {
      "cell_type": "code",
      "source": [
        "from Bio.Seq import Seq\n",
        "\n",
        "dna_seq = Seq(\"ATCACGAGATCCAATCCTAAGGAGAATAGTAAAAGAGAAAGGCGCGATTGCGTACATGCTTTTCTCATAATTAGTGTTAAGACCTTGCTTCTTTAGAGATGAAAAGCAGTAGGGGATCTCTTTCCTCCAATAGTTTTGGATTTACCGATAGGCATTTTGAAACCGTTACAGCTGTTTATCCGCAAGGAGCCAGCAATGGTAGATGATACTAGGCCGAACATGGCAGCGCATATCTTTTAGGCTTTCTTTCGCATTGCCGTATTAGATGACACGCTTGAGCCCAACACCGTCAGTCGAGTGACCCAAAATCACCAAGCCACACTAGTACTCACATAGCCACGATATGCTGGGCGGGTCAAGACGTCTCTTGACGAAGCAATTACTCGACCGTGCCGGTAGCCCCATGTTACTTTCATACAATTACCGACAGGCATAAACAAGAATAGCGCTCTCGCCGATCACACCATACGACGATAAAAGGATAGGTGGGTCGAGCCTCCGCCGGGTGCAGGCGCTAGTGCTATCCGGGACAAAGTCTCTAGCAGTAAAGGTCTGCACAATTCCGGCTTTCAATGTCCATAAGGAAACTCATCTGTTCATTGCGCAAGCTAGTGTGGATATAGACGTGGAGTTTACCCCCTAGGCGTGAGGCCATTATGGAGCCTGGGCTTTAAGGAGTTCGTACTAACAATGTACAACTAGCAGGCTACCTCGGAGACTGGGTAATATGATGTCACAGATGATTGCGCGCGACAATTGGTAATCCAAACATGGATGAAGAGCCGCGATAACGCCGGGTGAGCGTGAAATTAAACCTCCCGTTGCTGCAAACCAGGCTACTCAGCGTAATTAATGCCTACAGGGCGAAACTACAGTAAAGAAGAGCTAAGAAGTGCACGTTTGTCGAGTGTATAGAGTCACGAGA\")\n",
        "\n",
        "rna_seq = dna_seq.transcribe()\n",
        "\n",
        "print(rna_seq)\n"
      ],
      "metadata": {
        "colab": {
          "base_uri": "https://localhost:8080/",
          "height": 422
        },
        "id": "Vp2sJrspuzBe",
        "outputId": "c59ac85f-eec8-49fe-ddcc-81157bf70122"
      },
      "execution_count": 69,
      "outputs": [
        {
          "output_type": "error",
          "ename": "ModuleNotFoundError",
          "evalue": "No module named 'Bio'",
          "traceback": [
            "\u001b[0;31m---------------------------------------------------------------------------\u001b[0m",
            "\u001b[0;31mModuleNotFoundError\u001b[0m                       Traceback (most recent call last)",
            "\u001b[0;32m/tmp/ipython-input-3605075348.py\u001b[0m in \u001b[0;36m<cell line: 0>\u001b[0;34m()\u001b[0m\n\u001b[0;32m----> 1\u001b[0;31m \u001b[0;32mfrom\u001b[0m \u001b[0mBio\u001b[0m\u001b[0;34m.\u001b[0m\u001b[0mSeq\u001b[0m \u001b[0;32mimport\u001b[0m \u001b[0mSeq\u001b[0m\u001b[0;34m\u001b[0m\u001b[0;34m\u001b[0m\u001b[0m\n\u001b[0m\u001b[1;32m      2\u001b[0m \u001b[0;34m\u001b[0m\u001b[0m\n\u001b[1;32m      3\u001b[0m \u001b[0mdna_seq\u001b[0m \u001b[0;34m=\u001b[0m \u001b[0mSeq\u001b[0m\u001b[0;34m(\u001b[0m\u001b[0;34m\"ATCACGAGATCCAATCCTAAGGAGAATAGTAAAAGAGAAAGGCGCGATTGCGTACATGCTTTTCTCATAATTAGTGTTAAGACCTTGCTTCTTTAGAGATGAAAAGCAGTAGGGGATCTCTTTCCTCCAATAGTTTTGGATTTACCGATAGGCATTTTGAAACCGTTACAGCTGTTTATCCGCAAGGAGCCAGCAATGGTAGATGATACTAGGCCGAACATGGCAGCGCATATCTTTTAGGCTTTCTTTCGCATTGCCGTATTAGATGACACGCTTGAGCCCAACACCGTCAGTCGAGTGACCCAAAATCACCAAGCCACACTAGTACTCACATAGCCACGATATGCTGGGCGGGTCAAGACGTCTCTTGACGAAGCAATTACTCGACCGTGCCGGTAGCCCCATGTTACTTTCATACAATTACCGACAGGCATAAACAAGAATAGCGCTCTCGCCGATCACACCATACGACGATAAAAGGATAGGTGGGTCGAGCCTCCGCCGGGTGCAGGCGCTAGTGCTATCCGGGACAAAGTCTCTAGCAGTAAAGGTCTGCACAATTCCGGCTTTCAATGTCCATAAGGAAACTCATCTGTTCATTGCGCAAGCTAGTGTGGATATAGACGTGGAGTTTACCCCCTAGGCGTGAGGCCATTATGGAGCCTGGGCTTTAAGGAGTTCGTACTAACAATGTACAACTAGCAGGCTACCTCGGAGACTGGGTAATATGATGTCACAGATGATTGCGCGCGACAATTGGTAATCCAAACATGGATGAAGAGCCGCGATAACGCCGGGTGAGCGTGAAATTAAACCTCCCGTTGCTGCAAACCAGGCTACTCAGCGTAATTAATGCCTACAGGGCGAAACTACAGTAAAGAAGAGCTAAGAAGTGCACGTTTGTCGAGTGTATAGAGTCACGAGA\"\u001b[0m\u001b[0;34m)\u001b[0m\u001b[0;34m\u001b[0m\u001b[0;34m\u001b[0m\u001b[0m\n\u001b[1;32m      4\u001b[0m \u001b[0;34m\u001b[0m\u001b[0m\n\u001b[1;32m      5\u001b[0m \u001b[0mrna_seq\u001b[0m \u001b[0;34m=\u001b[0m \u001b[0mdna_seq\u001b[0m\u001b[0;34m.\u001b[0m\u001b[0mtranscribe\u001b[0m\u001b[0;34m(\u001b[0m\u001b[0;34m)\u001b[0m\u001b[0;34m\u001b[0m\u001b[0;34m\u001b[0m\u001b[0m\n",
            "\u001b[0;31mModuleNotFoundError\u001b[0m: No module named 'Bio'",
            "",
            "\u001b[0;31m---------------------------------------------------------------------------\u001b[0;32m\nNOTE: If your import is failing due to a missing package, you can\nmanually install dependencies using either !pip or !apt.\n\nTo view examples of installing some common dependencies, click the\n\"Open Examples\" button below.\n\u001b[0;31m---------------------------------------------------------------------------\u001b[0m\n"
          ],
          "errorDetails": {
            "actions": [
              {
                "action": "open_url",
                "actionText": "Open Examples",
                "url": "/notebooks/snippets/importing_libraries.ipynb"
              }
            ]
          }
        }
      ]
    },
    {
      "cell_type": "code",
      "source": [
        "pip install biopython"
      ],
      "metadata": {
        "colab": {
          "base_uri": "https://localhost:8080/"
        },
        "id": "ufNjop6BvAhm",
        "outputId": "4659ecf2-7368-453b-b2ab-9031ac312275"
      },
      "execution_count": 70,
      "outputs": [
        {
          "output_type": "stream",
          "name": "stdout",
          "text": [
            "Collecting biopython\n",
            "  Downloading biopython-1.85-cp312-cp312-manylinux_2_17_x86_64.manylinux2014_x86_64.whl.metadata (13 kB)\n",
            "Requirement already satisfied: numpy in /usr/local/lib/python3.12/dist-packages (from biopython) (2.0.2)\n",
            "Downloading biopython-1.85-cp312-cp312-manylinux_2_17_x86_64.manylinux2014_x86_64.whl (3.3 MB)\n",
            "\u001b[2K   \u001b[90m━━━━━━━━━━━━━━━━━━━━━━━━━━━━━━━━━━━━━━━━\u001b[0m \u001b[32m3.3/3.3 MB\u001b[0m \u001b[31m29.8 MB/s\u001b[0m eta \u001b[36m0:00:00\u001b[0m\n",
            "\u001b[?25hInstalling collected packages: biopython\n",
            "Successfully installed biopython-1.85\n"
          ]
        }
      ]
    },
    {
      "cell_type": "code",
      "source": [
        "from Bio.Seq import Seq\n",
        "\n",
        "my_seq = Seq(\"ATCACGAGATCCAATCCTAAGGAGAATAGTAAAAGAGAAAGGCGCGATTGCGTACATGCTTTTCTCATAATTAGTGTTAAGACCTTGCTTCTTTAGAGATGAAAAGCAGTAGGGGATCTCTTTCCTCCAATAGTTTTGGATTTACCGATAGGCATTTTGAAACCGTTACAGCTGTTTATCCGCAAGGAGCCAGCAATGGTAGATGATACTAGGCCGAACATGGCAGCGCATATCTTTTAGGCTTTCTTTCGCATTGCCGTATTAGATGACACGCTTGAGCCCAACACCGTCAGTCGAGTGACCCAAAATCACCAAGCCACACTAGTACTCACATAGCCACGATATGCTGGGCGGGTCAAGACGTCTCTTGACGAAGCAATTACTCGACCGTGCCGGTAGCCCCATGTTACTTTCATACAATTACCGACAGGCATAAACAAGAATAGCGCTCTCGCCGATCACACCATACGACGATAAAAGGATAGGTGGGTCGAGCCTCCGCCGGGTGCAGGCGCTAGTGCTATCCGGGACAAAGTCTCTAGCAGTAAAGGTCTGCACAATTCCGGCTTTCAATGTCCATAAGGAAACTCATCTGTTCATTGCGCAAGCTAGTGTGGATATAGACGTGGAGTTTACCCCCTAGGCGTGAGGCCATTATGGAGCCTGGGCTTTAAGGAGTTCGTACTAACAATGTACAACTAGCAGGCTACCTCGGAGACTGGGTAATATGATGTCACAGATGATTGCGCGCGACAATTGGTAATCCAAACATGGATGAAGAGCCGCGATAACGCCGGGTGAGCGTGAAATTAAACCTCCCGTTGCTGCAAACCAGGCTACTCAGCGTAATTAATGCCTACAGGGCGAAACTACAGTAAAGAAGAGCTAAGAAGTGCACGTTTGTCGAGTGTATAGAGTCACGAGA\")"
      ],
      "metadata": {
        "id": "Ok1NdqZevn9Y"
      },
      "execution_count": 72,
      "outputs": []
    },
    {
      "cell_type": "code",
      "metadata": {
        "id": "3a00f954"
      },
      "source": [
        "import Bio\n",
        "print(Bio.__version__)"
      ],
      "execution_count": null,
      "outputs": []
    }
  ]
}